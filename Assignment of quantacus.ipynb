{
 "cells": [
  {
   "cell_type": "code",
   "execution_count": 1,
   "id": "ac756080",
   "metadata": {},
   "outputs": [
    {
     "name": "stdout",
     "output_type": "stream",
     "text": [
      "   email_id   email_text email_version  hour    weekday user_country  \\\n",
      "0     85120  short_email  personalized     2     Sunday           US   \n",
      "1    966622   long_email  personalized    12     Sunday           UK   \n",
      "2    777221   long_email  personalized    11  Wednesday           US   \n",
      "3    493711  short_email       generic     6     Monday           UK   \n",
      "4    106887   long_email       generic    14     Monday           US   \n",
      "\n",
      "   user_past_purchases  \n",
      "0                    5  \n",
      "1                    2  \n",
      "2                    2  \n",
      "3                    1  \n",
      "4                    6  \n",
      "   email_id\n",
      "0    284534\n",
      "1    609056\n",
      "2    220820\n",
      "3    905936\n",
      "4    164034\n",
      "   email_id\n",
      "0    609056\n",
      "1    870980\n",
      "2    935124\n",
      "3    158501\n",
      "4    177561\n"
     ]
    }
   ],
   "source": [
    "import pandas as pd\n",
    "email_df = pd.read_csv(\"email_table.csv\")\n",
    "opened_df = pd.read_csv(\"email_opened_table.csv\")\n",
    "clicked_df = pd.read_csv(\"link_clicked_table.csv\")\n",
    "#to see the first 5 rows\n",
    "print(email_df.head())\n",
    "print(opened_df.head())\n",
    "print(clicked_df.head())"
   ]
  },
  {
   "cell_type": "code",
   "execution_count": 2,
   "id": "ee176374",
   "metadata": {},
   "outputs": [
    {
     "name": "stdout",
     "output_type": "stream",
     "text": [
      "total mails: 100000\n",
      "opened mails: 10345\n",
      "clicked mails: 2119\n"
     ]
    }
   ],
   "source": [
    "#count of rows in each table\n",
    "print(f\"total mails: {email_df.shape[0]}\")\n",
    "print(f\"opened mails: {opened_df.shape[0]}\")\n",
    "print(f\"clicked mails: {clicked_df.shape[0]}\")"
   ]
  },
  {
   "cell_type": "markdown",
   "id": "a7dd6b77",
   "metadata": {},
   "source": [
    "## q1: ●\tWhat percentage of users opened the email and what percentage clicked on the link within the email?"
   ]
  },
  {
   "cell_type": "code",
   "execution_count": 3,
   "id": "e14cfcf4",
   "metadata": {},
   "outputs": [
    {
     "name": "stdout",
     "output_type": "stream",
     "text": [
      "open_rate: 10.35%\n",
      "clicked_rate: 2.12%\n"
     ]
    }
   ],
   "source": [
    "total_mails= email_df.shape[0]\n",
    "opened_mails = opened_df.shape[0]\n",
    "clicked_mails = clicked_df.shape[0]\n",
    "\n",
    "open_rate = (opened_mails/total_mails)*100\n",
    "clicked_rate = (clicked_mails/total_mails)*100\n",
    "\n",
    "print(f\"open_rate: {open_rate:.2f}%\")\n",
    "print(f\"clicked_rate: {clicked_rate:.2f}%\")\n",
    "    "
   ]
  },
  {
   "cell_type": "markdown",
   "id": "4f155278",
   "metadata": {},
   "source": [
    "## q4: ● Did you find any interesting pattern on how the email campaign performed for different segments of users? "
   ]
  },
  {
   "cell_type": "code",
   "execution_count": 4,
   "id": "c6243df8",
   "metadata": {},
   "outputs": [
    {
     "name": "stdout",
     "output_type": "stream",
     "text": [
      "   email_id   email_text email_version  hour    weekday user_country  \\\n",
      "0     85120  short_email  personalized     2     Sunday           US   \n",
      "1    966622   long_email  personalized    12     Sunday           UK   \n",
      "2    777221   long_email  personalized    11  Wednesday           US   \n",
      "3    493711  short_email       generic     6     Monday           UK   \n",
      "4    106887   long_email       generic    14     Monday           US   \n",
      "\n",
      "   user_past_purchases  opened  clicked  \n",
      "0                    5       0        0  \n",
      "1                    2       1        1  \n",
      "2                    2       0        0  \n",
      "3                    1       0        0  \n",
      "4                    6       0        0  \n"
     ]
    }
   ],
   "source": [
    "#add 2 extra cols in email_table \n",
    "email_df[\"opened\"] = email_df[\"email_id\"].isin(opened_df[\"email_id\"]).astype(int)\n",
    "email_df[\"clicked\"] = email_df[\"email_id\"].isin(clicked_df[\"email_id\"]).astype(int)\n",
    "print(email_df.head())\n"
   ]
  },
  {
   "cell_type": "code",
   "execution_count": 5,
   "id": "8f829655",
   "metadata": {},
   "outputs": [
    {
     "name": "stdout",
     "output_type": "stream",
     "text": [
      "email_text\n",
      "long_email     1.853767\n",
      "short_email    2.387177\n",
      "Name: clicked, dtype: float64\n",
      "email_version\n",
      "generic         1.513673\n",
      "personalized    2.729409\n",
      "Name: clicked, dtype: float64\n",
      "hour\n",
      "1     1.812801\n",
      "2     1.632209\n",
      "3     1.952278\n",
      "4     1.618641\n",
      "5     1.801252\n",
      "6     1.714668\n",
      "7     1.828376\n",
      "8     1.893308\n",
      "9     2.579435\n",
      "10    2.823961\n",
      "11    2.712816\n",
      "12    2.566073\n",
      "13    1.988891\n",
      "14    2.074236\n",
      "15    2.490696\n",
      "16    2.319681\n",
      "17    1.848917\n",
      "18    1.618578\n",
      "19    1.657459\n",
      "20    1.219512\n",
      "21    0.821918\n",
      "22    1.960784\n",
      "23    4.137931\n",
      "24    2.898551\n",
      "Name: clicked, dtype: float64\n",
      "weekday\n",
      "Friday       1.403682\n",
      "Monday       2.290608\n",
      "Saturday     1.784611\n",
      "Sunday       1.675123\n",
      "Thursday     2.444491\n",
      "Tuesday      2.488864\n",
      "Wednesday    2.761999\n",
      "Name: clicked, dtype: float64\n",
      "user_country\n",
      "ES    0.832748\n",
      "FR    0.800400\n",
      "UK    2.467526\n",
      "US    2.435981\n",
      "Name: clicked, dtype: float64\n",
      "user_past_purchases\n",
      "0       0.050443\n",
      "1       1.119919\n",
      "2       1.534213\n",
      "3       1.656040\n",
      "4       2.140929\n",
      "5       2.222960\n",
      "6       3.205640\n",
      "7       3.073872\n",
      "8       3.960847\n",
      "9       4.550971\n",
      "10      4.655099\n",
      "11      5.602061\n",
      "12      6.567797\n",
      "13      6.574394\n",
      "14      9.116022\n",
      "15     11.702128\n",
      "16     11.764706\n",
      "17      8.333333\n",
      "18      2.857143\n",
      "19     20.000000\n",
      "20      0.000000\n",
      "21     50.000000\n",
      "22    100.000000\n",
      "Name: clicked, dtype: float64\n",
      "email_text\n",
      "long_email      9.117670\n",
      "short_email    11.585954\n",
      "Name: opened, dtype: float64\n",
      "email_version\n",
      "generic          7.934832\n",
      "personalized    12.775401\n",
      "Name: opened, dtype: float64\n",
      "hour\n",
      "1      8.842027\n",
      "2      8.786725\n",
      "3      8.459870\n",
      "4      8.822483\n",
      "5      8.212487\n",
      "6      9.028801\n",
      "7      9.007801\n",
      "8      8.847345\n",
      "9     12.568883\n",
      "10    13.239609\n",
      "11    12.655352\n",
      "12    12.446220\n",
      "13    10.912023\n",
      "14    10.938865\n",
      "15    10.535356\n",
      "16    10.474810\n",
      "17    10.935024\n",
      "18     9.429979\n",
      "19     7.513812\n",
      "20     8.841463\n",
      "21     5.753425\n",
      "22     6.372549\n",
      "23     8.275862\n",
      "24    15.942029\n",
      "Name: opened, dtype: float64\n",
      "weekday\n",
      "Friday        7.413416\n",
      "Monday       11.606210\n",
      "Saturday      8.765186\n",
      "Sunday        8.764857\n",
      "Thursday     11.844225\n",
      "Tuesday      12.048363\n",
      "Wednesday    12.027833\n",
      "Name: opened, dtype: float64\n",
      "user_country\n",
      "ES     3.912913\n",
      "FR     4.062031\n",
      "UK    12.016651\n",
      "US    11.902028\n",
      "Name: opened, dtype: float64\n",
      "user_past_purchases\n",
      "0       3.833682\n",
      "1       9.279325\n",
      "2      10.125805\n",
      "3      10.805664\n",
      "4      11.123522\n",
      "5      11.634594\n",
      "6      12.343708\n",
      "7      12.295488\n",
      "8      13.954018\n",
      "9      13.470874\n",
      "10     13.922979\n",
      "11     15.067611\n",
      "12     14.194915\n",
      "13     14.013841\n",
      "14     19.613260\n",
      "15     19.680851\n",
      "16     21.568627\n",
      "17     18.333333\n",
      "18     20.000000\n",
      "19     20.000000\n",
      "20     36.363636\n",
      "21     50.000000\n",
      "22    100.000000\n",
      "Name: opened, dtype: float64\n"
     ]
    }
   ],
   "source": [
    "#click rates\n",
    "print(email_df.groupby(\"email_text\")[\"clicked\"].mean()*100)\n",
    "print(email_df.groupby(\"email_version\")[\"clicked\"].mean()*100)\n",
    "print(email_df.groupby(\"hour\")[\"clicked\"].mean()*100)\n",
    "print(email_df.groupby(\"weekday\")[\"clicked\"].mean()*100)\n",
    "print(email_df.groupby(\"user_country\")[\"clicked\"].mean()*100)\n",
    "print(email_df.groupby(\"user_past_purchases\")[\"clicked\"].mean()*100)\n",
    "\n",
    "#open rates\n",
    "print(email_df.groupby(\"email_text\")[\"opened\"].mean()*100)\n",
    "print(email_df.groupby(\"email_version\")[\"opened\"].mean()*100)\n",
    "print(email_df.groupby(\"hour\")[\"opened\"].mean()*100)\n",
    "print(email_df.groupby(\"weekday\")[\"opened\"].mean()*100)\n",
    "print(email_df.groupby(\"user_country\")[\"opened\"].mean()*100)\n",
    "print(email_df.groupby(\"user_past_purchases\")[\"opened\"].mean()*100)\n",
    "\n"
   ]
  },
  {
   "cell_type": "markdown",
   "id": "6df42033",
   "metadata": {},
   "source": [
    "## Q2:can you build a model to optimize in future how to send emails to maximize the probability of users clicking on the link inside the email?"
   ]
  },
  {
   "cell_type": "code",
   "execution_count": 10,
   "id": "34b5f49e",
   "metadata": {},
   "outputs": [
    {
     "name": "stdout",
     "output_type": "stream",
     "text": [
      "              precision    recall  f1-score   support\n",
      "\n",
      "           0       0.98      1.00      0.99     29326\n",
      "           1       0.07      0.01      0.02       674\n",
      "\n",
      "    accuracy                           0.97     30000\n",
      "   macro avg       0.52      0.50      0.50     30000\n",
      "weighted avg       0.96      0.97      0.97     30000\n",
      "\n",
      "AUC Score: 0.5778\n"
     ]
    }
   ],
   "source": [
    "##Build a Click Prediction Model\n",
    "from sklearn.model_selection import train_test_split\n",
    "from sklearn.preprocessing import LabelEncoder\n",
    "from sklearn.ensemble import RandomForestClassifier\n",
    "from sklearn.metrics import classification_report, roc_auc_score\n",
    "\n",
    "# Encode categorical variables\n",
    "le_text = LabelEncoder()\n",
    "le_version = LabelEncoder()\n",
    "le_country = LabelEncoder()\n",
    "le_weekday = LabelEncoder()\n",
    "\n",
    "email_df['email_text_encoded'] = le_text.fit_transform(email_df['email_text'])\n",
    "email_df['email_version_encoded'] = le_version.fit_transform(email_df['email_version'])\n",
    "email_df['user_country_encoded'] = le_country.fit_transform(email_df['user_country'])\n",
    "email_df['weekday_encoded'] = le_weekday.fit_transform(email_df['weekday'])\n",
    "\n",
    "# Feature & target selection\n",
    "X = email_df[['email_text_encoded', 'email_version_encoded', 'hour', 'weekday_encoded',\n",
    "              'user_country_encoded', 'user_past_purchases']]\n",
    "y = email_df['clicked']\n",
    "\n",
    "# Train-test split\n",
    "X_train, X_test, y_train, y_test = train_test_split(X, y, test_size=0.3, random_state=42)\n",
    "\n",
    "# Random Forest Classifier\n",
    "model = RandomForestClassifier(random_state=42)\n",
    "model.fit(X_train, y_train)\n",
    "\n",
    "# Predictions\n",
    "y_pred = model.predict(X_test)\n",
    "y_proba = model.predict_proba(X_test)[:,1]\n",
    "\n",
    "# Evaluation\n",
    "print(classification_report(y_test, y_pred))\n",
    "print(f\"AUC Score: {roc_auc_score(y_test, y_proba):.4f}\")\n"
   ]
  },
  {
   "cell_type": "markdown",
   "id": "6934d262",
   "metadata": {},
   "source": [
    "## Q3 ●\tBy how much do you think your model would improve click through rate (defined as # of users who click on the link/total users who receive the email). How would you test that?"
   ]
  },
  {
   "cell_type": "code",
   "execution_count": 12,
   "id": "1c653bdc",
   "metadata": {},
   "outputs": [
    {
     "name": "stdout",
     "output_type": "stream",
     "text": [
      "📊 Baseline Click-Through Rate (CTR): 2.25%\n",
      "🎯 Expected Click-Through Rate (CTR) by targeting top 30%: 2.25%\n",
      "📈 CTR Improvement Factor: 1.00x\n",
      "\n",
      "📝 To validate this improvement:\n",
      "👉 Perform an A/B test:\n",
      "   - Group A (control): Send emails randomly (as before)\n",
      "   - Group B (test): Send emails only to top 30% predicted clickers\n",
      "👉 Compare CTRs of both groups using a proportion z-test or chi-square test for significance.\n"
     ]
    }
   ],
   "source": [
    "# ✅ Add predicted probabilities to X_test\n",
    "X_test = X_test.copy()  # Avoid SettingWithCopyWarning\n",
    "X_test['predicted_proba'] = y_proba\n",
    "X_test['actual'] = y_test.values  # Add actual outcomes for comparison\n",
    "\n",
    "# ✅ Calculate baseline CTR (without model targeting — sending to everyone)\n",
    "baseline_ctr = (X_test['actual'].sum() / X_test.shape[0]) * 100\n",
    "print(f\"📊 Baseline Click-Through Rate (CTR): {baseline_ctr:.2f}%\")\n",
    "\n",
    "# ✅ Select top 30% users based on predicted probability\n",
    "top_30_pct = X_test[X_test['predicted_proba'] >= X_test['predicted_proba'].quantile(0.7)]\n",
    "\n",
    "# ✅ Calculate actual CTR within the top 30% group\n",
    "actual_ctr_in_top_30 = (top_30_pct['actual'].sum() / top_30_pct.shape[0]) * 100\n",
    "print(f\"🎯 Expected Click-Through Rate (CTR) by targeting top 30%: {actual_ctr_in_top_30:.2f}%\")\n",
    "\n",
    "# ✅ Calculate improvement factor\n",
    "improvement_factor = actual_ctr_in_top_30 / baseline_ctr\n",
    "print(f\"📈 CTR Improvement Factor: {improvement_factor:.2f}x\")\n",
    "\n",
    "# ✅ How to test this improvement:\n",
    "print(\"\\n📝 To validate this improvement:\")\n",
    "print(\"👉 Perform an A/B test:\")\n",
    "print(\"   - Group A (control): Send emails randomly (as before)\")\n",
    "print(\"   - Group B (test): Send emails only to top 30% predicted clickers\")\n",
    "print(\"👉 Compare CTRs of both groups using a proportion z-test or chi-square test for significance.\")\n"
   ]
  },
  {
   "cell_type": "code",
   "execution_count": null,
   "id": "fbbbc6fb",
   "metadata": {},
   "outputs": [],
   "source": []
  }
 ],
 "metadata": {
  "kernelspec": {
   "display_name": "Python 3 (ipykernel)",
   "language": "python",
   "name": "python3"
  },
  "language_info": {
   "codemirror_mode": {
    "name": "ipython",
    "version": 3
   },
   "file_extension": ".py",
   "mimetype": "text/x-python",
   "name": "python",
   "nbconvert_exporter": "python",
   "pygments_lexer": "ipython3",
   "version": "3.9.7"
  }
 },
 "nbformat": 4,
 "nbformat_minor": 5
}
